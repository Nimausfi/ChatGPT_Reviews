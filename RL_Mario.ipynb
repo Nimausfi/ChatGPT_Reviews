{
 "cells": [
  {
   "cell_type": "markdown",
   "id": "fc15fb9e",
   "metadata": {},
   "source": [
    "# **Setup Mario**"
   ]
  },
  {
   "cell_type": "code",
   "execution_count": 1,
   "id": "31f0270f",
   "metadata": {},
   "outputs": [
    {
     "name": "stdout",
     "output_type": "stream",
     "text": [
      "Requirement already satisfied: nes-py in c:\\users\\nima\\anaconda3\\envs\\reinforcement_learning\\lib\\site-packages (8.2.1)\n",
      "Requirement already satisfied: gym>=0.17.2 in c:\\users\\nima\\anaconda3\\envs\\reinforcement_learning\\lib\\site-packages (from nes-py) (0.26.2)\n",
      "Requirement already satisfied: numpy>=1.18.5 in c:\\users\\nima\\anaconda3\\envs\\reinforcement_learning\\lib\\site-packages (from nes-py) (1.25.1)\n",
      "Requirement already satisfied: pyglet<=1.5.21,>=1.4.0 in c:\\users\\nima\\anaconda3\\envs\\reinforcement_learning\\lib\\site-packages (from nes-py) (1.5.21)\n",
      "Requirement already satisfied: tqdm>=4.48.2 in c:\\users\\nima\\anaconda3\\envs\\reinforcement_learning\\lib\\site-packages (from nes-py) (4.65.0)\n",
      "Requirement already satisfied: cloudpickle>=1.2.0 in c:\\users\\nima\\anaconda3\\envs\\reinforcement_learning\\lib\\site-packages (from gym>=0.17.2->nes-py) (2.2.1)\n",
      "Requirement already satisfied: gym-notices>=0.0.4 in c:\\users\\nima\\anaconda3\\envs\\reinforcement_learning\\lib\\site-packages (from gym>=0.17.2->nes-py) (0.0.8)\n",
      "Requirement already satisfied: colorama in c:\\users\\nima\\anaconda3\\envs\\reinforcement_learning\\lib\\site-packages (from tqdm>=4.48.2->nes-py) (0.4.6)\n"
     ]
    }
   ],
   "source": [
    "!pip install nes-py"
   ]
  },
  {
   "cell_type": "code",
   "execution_count": 2,
   "id": "7f9085f9",
   "metadata": {},
   "outputs": [
    {
     "name": "stdout",
     "output_type": "stream",
     "text": [
      "Requirement already satisfied: gym-super-mario-bros in c:\\users\\nima\\anaconda3\\envs\\reinforcement_learning\\lib\\site-packages (7.4.0)\n",
      "Requirement already satisfied: nes-py>=8.1.4 in c:\\users\\nima\\anaconda3\\envs\\reinforcement_learning\\lib\\site-packages (from gym-super-mario-bros) (8.2.1)\n",
      "Requirement already satisfied: gym>=0.17.2 in c:\\users\\nima\\anaconda3\\envs\\reinforcement_learning\\lib\\site-packages (from nes-py>=8.1.4->gym-super-mario-bros) (0.26.2)\n",
      "Requirement already satisfied: numpy>=1.18.5 in c:\\users\\nima\\anaconda3\\envs\\reinforcement_learning\\lib\\site-packages (from nes-py>=8.1.4->gym-super-mario-bros) (1.25.1)\n",
      "Requirement already satisfied: pyglet<=1.5.21,>=1.4.0 in c:\\users\\nima\\anaconda3\\envs\\reinforcement_learning\\lib\\site-packages (from nes-py>=8.1.4->gym-super-mario-bros) (1.5.21)\n",
      "Requirement already satisfied: tqdm>=4.48.2 in c:\\users\\nima\\anaconda3\\envs\\reinforcement_learning\\lib\\site-packages (from nes-py>=8.1.4->gym-super-mario-bros) (4.65.0)\n",
      "Requirement already satisfied: cloudpickle>=1.2.0 in c:\\users\\nima\\anaconda3\\envs\\reinforcement_learning\\lib\\site-packages (from gym>=0.17.2->nes-py>=8.1.4->gym-super-mario-bros) (2.2.1)\n",
      "Requirement already satisfied: gym-notices>=0.0.4 in c:\\users\\nima\\anaconda3\\envs\\reinforcement_learning\\lib\\site-packages (from gym>=0.17.2->nes-py>=8.1.4->gym-super-mario-bros) (0.0.8)\n",
      "Requirement already satisfied: colorama in c:\\users\\nima\\anaconda3\\envs\\reinforcement_learning\\lib\\site-packages (from tqdm>=4.48.2->nes-py>=8.1.4->gym-super-mario-bros) (0.4.6)\n"
     ]
    }
   ],
   "source": [
    "# !pip install gym_super_mario_bros==7.3.8 nes_py\n",
    "!pip install gym-super-mario-bros"
   ]
  },
  {
   "cell_type": "code",
   "execution_count": 3,
   "id": "ebf1abd2",
   "metadata": {},
   "outputs": [],
   "source": [
    "import gym_super_mario_bros\n",
    "from nes_py.wrappers import JoypadSpace\n",
    "from gym_super_mario_bros.actions import SIMPLE_MOVEMENT"
   ]
  },
  {
   "cell_type": "code",
   "execution_count": 4,
   "id": "c5e43465",
   "metadata": {},
   "outputs": [
    {
     "name": "stderr",
     "output_type": "stream",
     "text": [
      "C:\\Users\\Nima\\anaconda3\\envs\\reinforcement_learning\\lib\\site-packages\\gym\\envs\\registration.py:555: UserWarning: \u001b[33mWARN: The environment SuperMarioBros-v0 is out of date. You should consider upgrading to version `v3`.\u001b[0m\n",
      "  logger.warn(\n",
      "C:\\Users\\Nima\\anaconda3\\envs\\reinforcement_learning\\lib\\site-packages\\gym\\envs\\registration.py:627: UserWarning: \u001b[33mWARN: The environment creator metadata doesn't include `render_modes`, contains: ['render.modes', 'video.frames_per_second']\u001b[0m\n",
      "  logger.warn(\n"
     ]
    }
   ],
   "source": [
    "env = gym_super_mario_bros.make('SuperMarioBros-v0', apply_api_compatibility=True, render_mode=\"human\")\n",
    "env = JoypadSpace(env, SIMPLE_MOVEMENT)"
   ]
  },
  {
   "cell_type": "code",
   "execution_count": 5,
   "id": "d410a285",
   "metadata": {},
   "outputs": [
    {
     "data": {
      "text/plain": [
       "(240, 256, 3)"
      ]
     },
     "execution_count": 5,
     "metadata": {},
     "output_type": "execute_result"
    }
   ],
   "source": [
    "env.observation_space.shape"
   ]
  },
  {
   "cell_type": "code",
   "execution_count": 6,
   "id": "8172b016",
   "metadata": {},
   "outputs": [
    {
     "data": {
      "text/plain": [
       "Discrete(7)"
      ]
     },
     "execution_count": 6,
     "metadata": {},
     "output_type": "execute_result"
    }
   ],
   "source": [
    "env.action_space"
   ]
  },
  {
   "cell_type": "code",
   "execution_count": 7,
   "id": "18e908c6",
   "metadata": {},
   "outputs": [
    {
     "data": {
      "text/plain": [
       "['right', 'A', 'B']"
      ]
     },
     "execution_count": 7,
     "metadata": {},
     "output_type": "execute_result"
    }
   ],
   "source": [
    "SIMPLE_MOVEMENT[env.action_space.sample()]"
   ]
  },
  {
   "cell_type": "code",
   "execution_count": 8,
   "id": "7f9b3fef",
   "metadata": {},
   "outputs": [],
   "source": [
    "#done = True\n",
    "#env.reset()\n",
    "#for step in range(5000):\n",
    "#    action = env.action_space.sample()\n",
    "#    obs, reward, terminated, truncated, info = env.step(action)\n",
    "#    done = terminated or truncated\n",
    "\n",
    "#    if done:\n",
    "#       env.reset()\n",
    "\n",
    "#env.close()"
   ]
  },
  {
   "cell_type": "code",
   "execution_count": 9,
   "id": "736cc7bb",
   "metadata": {},
   "outputs": [
    {
     "name": "stderr",
     "output_type": "stream",
     "text": [
      "C:\\Users\\Nima\\anaconda3\\envs\\reinforcement_learning\\lib\\site-packages\\gym\\utils\\passive_env_checker.py:233: DeprecationWarning: `np.bool8` is a deprecated alias for `np.bool_`.  (Deprecated NumPy 1.24)\n",
      "  if not isinstance(terminated, (bool, np.bool8)):\n",
      "C:\\Users\\Nima\\anaconda3\\envs\\reinforcement_learning\\lib\\site-packages\\gym\\utils\\passive_env_checker.py:272: UserWarning: \u001b[33mWARN: No render modes was declared in the environment (env.metadata['render_modes'] is None or not defined), you may have trouble when calling `.render()`.\u001b[0m\n",
      "  logger.warn(\n"
     ]
    }
   ],
   "source": [
    "done = True\n",
    "# loop through each fram in the game\n",
    "for step in range(5000):\n",
    "    if done:\n",
    "        # start the game\n",
    "        env.reset()\n",
    "    # do random actions\n",
    "    state, reward, done, truncated, info = env.step(env.action_space.sample())\n",
    "    # state, reward, done, info\n",
    "    # show the game on the screen\n",
    "    env.render()\n",
    "# close the game    \n",
    "env.close()"
   ]
  },
  {
   "cell_type": "markdown",
   "id": "c9553073",
   "metadata": {},
   "source": [
    "# **Preprocess Environment**"
   ]
  },
  {
   "cell_type": "code",
   "execution_count": null,
   "id": "d8f9cdbc",
   "metadata": {},
   "outputs": [],
   "source": []
  },
  {
   "cell_type": "code",
   "execution_count": null,
   "id": "f41aa1d4",
   "metadata": {},
   "outputs": [],
   "source": []
  }
 ],
 "metadata": {
  "kernelspec": {
   "display_name": "Python 3 (ipykernel)",
   "language": "python",
   "name": "python3"
  },
  "language_info": {
   "codemirror_mode": {
    "name": "ipython",
    "version": 3
   },
   "file_extension": ".py",
   "mimetype": "text/x-python",
   "name": "python",
   "nbconvert_exporter": "python",
   "pygments_lexer": "ipython3",
   "version": "3.10.12"
  }
 },
 "nbformat": 4,
 "nbformat_minor": 5
}
