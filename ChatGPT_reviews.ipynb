{
 "cells": [
  {
   "cell_type": "markdown",
   "id": "9bc3d1fd",
   "metadata": {},
   "source": [
    "## **Check GPU**"
   ]
  },
  {
   "cell_type": "code",
   "execution_count": 1,
   "id": "72dfcd4a",
   "metadata": {},
   "outputs": [
    {
     "name": "stdout",
     "output_type": "stream",
     "text": [
      "GPU 0: NVIDIA GeForce RTX 3060 Ti (UUID: GPU-981912e7-585f-49c2-1ad9-600372b88670)\n"
     ]
    }
   ],
   "source": [
    "!nvidia-smi -L"
   ]
  },
  {
   "cell_type": "code",
   "execution_count": 2,
   "id": "9a17b4cd",
   "metadata": {},
   "outputs": [
    {
     "name": "stdout",
     "output_type": "stream",
     "text": [
      "TensorFlow version: 2.14.0-dev20230620\n",
      "Notebook last run (end-to-end): 2023-07-14 10:21:40.518722\n"
     ]
    }
   ],
   "source": [
    "# Check TensorFlow version (should be minimum 2.4.0+ but 2.13.0+ is better)\n",
    "import tensorflow as tf\n",
    "print(f\"TensorFlow version: {tf.__version__}\")\n",
    "\n",
    "# Add timestamp\n",
    "import datetime\n",
    "print(f\"Notebook last run (end-to-end): {datetime.datetime.now()}\")"
   ]
  },
  {
   "cell_type": "markdown",
   "id": "50242750",
   "metadata": {},
   "source": [
    "## **Get helper functions**"
   ]
  },
  {
   "cell_type": "code",
   "execution_count": 9,
   "id": "7a5de179",
   "metadata": {},
   "outputs": [
    {
     "name": "stdout",
     "output_type": "stream",
     "text": [
      "[INFO] 'helper_functions.py' already exists, skipping download.\n"
     ]
    }
   ],
   "source": [
    "# Get helper functions file\n",
    "import os\n",
    "\n",
    "if not os.path.exists(\"helper_functions.py\"):\n",
    "    !wget https://raw.githubusercontent.com/mrdbourke/tensorflow-deep-learning/main/extras/helper_functions.py\n",
    "else:\n",
    "    print(\"[INFO] 'helper_functions.py' already exists, skipping download.\")\n"
   ]
  },
  {
   "cell_type": "markdown",
   "id": "d13c2d03",
   "metadata": {},
   "source": [
    "## **Download Kaggle dataset**"
   ]
  },
  {
   "cell_type": "code",
   "execution_count": 6,
   "id": "b83be6a4",
   "metadata": {},
   "outputs": [],
   "source": [
    "import opendatasets as od"
   ]
  },
  {
   "cell_type": "code",
   "execution_count": 34,
   "id": "77032ef0",
   "metadata": {},
   "outputs": [
    {
     "name": "stdout",
     "output_type": "stream",
     "text": [
      "Skipping, found downloaded files in \".\\chatgpt-app-reviews\" (use force=True to force download)\n"
     ]
    }
   ],
   "source": [
    "# Download data from Kaggle\n",
    "od.download(\"https://www.kaggle.com/datasets/saloni1712/chatgpt-app-reviews\")"
   ]
  },
  {
   "cell_type": "code",
   "execution_count": 35,
   "id": "b7781b89",
   "metadata": {},
   "outputs": [],
   "source": [
    "data = pd.read_csv('C:/Users/Nima/Desktop/ChatGPT_Reviews/chatgpt-app-reviews/chatgpt_reviews.csv')"
   ]
  },
  {
   "cell_type": "code",
   "execution_count": 36,
   "id": "bcdf2a79",
   "metadata": {},
   "outputs": [
    {
     "data": {
      "text/plain": [
       "(2058, 4)"
      ]
     },
     "execution_count": 36,
     "metadata": {},
     "output_type": "execute_result"
    }
   ],
   "source": [
    "data.shape"
   ]
  },
  {
   "cell_type": "code",
   "execution_count": 37,
   "id": "8fd876c1",
   "metadata": {},
   "outputs": [
    {
     "name": "stdout",
     "output_type": "stream",
     "text": [
      "<class 'pandas.core.frame.DataFrame'>\n",
      "RangeIndex: 2058 entries, 0 to 2057\n",
      "Data columns (total 4 columns):\n",
      " #   Column  Non-Null Count  Dtype \n",
      "---  ------  --------------  ----- \n",
      " 0   date    2058 non-null   object\n",
      " 1   title   2058 non-null   object\n",
      " 2   review  2058 non-null   object\n",
      " 3   rating  2058 non-null   int64 \n",
      "dtypes: int64(1), object(3)\n",
      "memory usage: 64.4+ KB\n"
     ]
    }
   ],
   "source": [
    "data.info()"
   ]
  },
  {
   "cell_type": "code",
   "execution_count": 38,
   "id": "ec4ee593",
   "metadata": {},
   "outputs": [
    {
     "data": {
      "text/html": [
       "<div>\n",
       "<style scoped>\n",
       "    .dataframe tbody tr th:only-of-type {\n",
       "        vertical-align: middle;\n",
       "    }\n",
       "\n",
       "    .dataframe tbody tr th {\n",
       "        vertical-align: top;\n",
       "    }\n",
       "\n",
       "    .dataframe thead th {\n",
       "        text-align: right;\n",
       "    }\n",
       "</style>\n",
       "<table border=\"1\" class=\"dataframe\">\n",
       "  <thead>\n",
       "    <tr style=\"text-align: right;\">\n",
       "      <th></th>\n",
       "      <th>rating</th>\n",
       "    </tr>\n",
       "  </thead>\n",
       "  <tbody>\n",
       "    <tr>\n",
       "      <th>count</th>\n",
       "      <td>2058.000000</td>\n",
       "    </tr>\n",
       "    <tr>\n",
       "      <th>mean</th>\n",
       "      <td>3.744898</td>\n",
       "    </tr>\n",
       "    <tr>\n",
       "      <th>std</th>\n",
       "      <td>1.577841</td>\n",
       "    </tr>\n",
       "    <tr>\n",
       "      <th>min</th>\n",
       "      <td>1.000000</td>\n",
       "    </tr>\n",
       "    <tr>\n",
       "      <th>25%</th>\n",
       "      <td>3.000000</td>\n",
       "    </tr>\n",
       "    <tr>\n",
       "      <th>50%</th>\n",
       "      <td>5.000000</td>\n",
       "    </tr>\n",
       "    <tr>\n",
       "      <th>75%</th>\n",
       "      <td>5.000000</td>\n",
       "    </tr>\n",
       "    <tr>\n",
       "      <th>max</th>\n",
       "      <td>5.000000</td>\n",
       "    </tr>\n",
       "  </tbody>\n",
       "</table>\n",
       "</div>"
      ],
      "text/plain": [
       "            rating\n",
       "count  2058.000000\n",
       "mean      3.744898\n",
       "std       1.577841\n",
       "min       1.000000\n",
       "25%       3.000000\n",
       "50%       5.000000\n",
       "75%       5.000000\n",
       "max       5.000000"
      ]
     },
     "execution_count": 38,
     "metadata": {},
     "output_type": "execute_result"
    }
   ],
   "source": [
    "data.describe()"
   ]
  },
  {
   "cell_type": "code",
   "execution_count": 39,
   "id": "4436ac12",
   "metadata": {},
   "outputs": [
    {
     "data": {
      "text/html": [
       "<div>\n",
       "<style scoped>\n",
       "    .dataframe tbody tr th:only-of-type {\n",
       "        vertical-align: middle;\n",
       "    }\n",
       "\n",
       "    .dataframe tbody tr th {\n",
       "        vertical-align: top;\n",
       "    }\n",
       "\n",
       "    .dataframe thead th {\n",
       "        text-align: right;\n",
       "    }\n",
       "</style>\n",
       "<table border=\"1\" class=\"dataframe\">\n",
       "  <thead>\n",
       "    <tr style=\"text-align: right;\">\n",
       "      <th></th>\n",
       "      <th>date</th>\n",
       "      <th>title</th>\n",
       "      <th>review</th>\n",
       "    </tr>\n",
       "  </thead>\n",
       "  <tbody>\n",
       "    <tr>\n",
       "      <th>count</th>\n",
       "      <td>2058</td>\n",
       "      <td>2058</td>\n",
       "      <td>2058</td>\n",
       "    </tr>\n",
       "    <tr>\n",
       "      <th>unique</th>\n",
       "      <td>2053</td>\n",
       "      <td>1850</td>\n",
       "      <td>2033</td>\n",
       "    </tr>\n",
       "    <tr>\n",
       "      <th>top</th>\n",
       "      <td>2023-05-18 23:04:43</td>\n",
       "      <td>Finally</td>\n",
       "      <td>First</td>\n",
       "    </tr>\n",
       "    <tr>\n",
       "      <th>freq</th>\n",
       "      <td>2</td>\n",
       "      <td>13</td>\n",
       "      <td>5</td>\n",
       "    </tr>\n",
       "  </tbody>\n",
       "</table>\n",
       "</div>"
      ],
      "text/plain": [
       "                       date    title review\n",
       "count                  2058     2058   2058\n",
       "unique                 2053     1850   2033\n",
       "top     2023-05-18 23:04:43  Finally  First\n",
       "freq                      2       13      5"
      ]
     },
     "execution_count": 39,
     "metadata": {},
     "output_type": "execute_result"
    }
   ],
   "source": [
    "data.describe(include='object')"
   ]
  },
  {
   "cell_type": "markdown",
   "id": "0e067514",
   "metadata": {},
   "source": [
    "## **Analysis of Rating column**"
   ]
  },
  {
   "cell_type": "code",
   "execution_count": 40,
   "id": "980aae8b",
   "metadata": {},
   "outputs": [
    {
     "data": {
      "text/plain": [
       "1     391\n",
       "2     115\n",
       "3     199\n",
       "4     276\n",
       "5    1077\n",
       "Name: rating, dtype: int64"
      ]
     },
     "execution_count": 40,
     "metadata": {},
     "output_type": "execute_result"
    }
   ],
   "source": [
    "#Rating Distribution\n",
    "data['rating'].value_counts().sort_index()"
   ]
  },
  {
   "cell_type": "code",
   "execution_count": 41,
   "id": "dd42065b",
   "metadata": {},
   "outputs": [
    {
     "data": {
      "text/plain": [
       "1    19.00\n",
       "2     5.59\n",
       "3     9.67\n",
       "4    13.41\n",
       "5    52.33\n",
       "Name: rating, dtype: float64"
      ]
     },
     "execution_count": 41,
     "metadata": {},
     "output_type": "execute_result"
    }
   ],
   "source": [
    "data['rating'].value_counts(normalize=True).mul(100).round(2).sort_index()"
   ]
  },
  {
   "cell_type": "code",
   "execution_count": 46,
   "id": "4967af41",
   "metadata": {},
   "outputs": [],
   "source": [
    "import seaborn as sns\n",
    "import matplotlib.pyplot as plt"
   ]
  },
  {
   "cell_type": "code",
   "execution_count": 47,
   "id": "326bb114",
   "metadata": {},
   "outputs": [
    {
     "data": {
      "image/png": "[encoded data removed]",
      "text/plain": [
       "<Figure size 640x480 with 1 Axes>"
      ]
     },
     "metadata": {},
     "output_type": "display_data"
    }
   ],
   "source": [
    "#Plot\n",
    "palette = \"deep\"\n",
    "sns.set_palette(palette)\n",
    "\n",
    "sns.countplot(data=data, x='rating')\n",
    "\n",
    "plt.xlabel('Rating')\n",
    "plt.ylabel('No. of Users')\n",
    "plt.title('Ratings Distribution')\n",
    "\n",
    "plt.show()"
   ]
  },
  {
   "cell_type": "markdown",
   "id": "c6267de1",
   "metadata": {},
   "source": [
    "## **Data Preprocessing**"
   ]
  },
  {
   "cell_type": "code",
   "execution_count": 48,
   "id": "b9357f15",
   "metadata": {},
   "outputs": [
    {
     "data": {
      "text/plain": [
       "date      0\n",
       "title     0\n",
       "review    0\n",
       "rating    0\n",
       "dtype: int64"
      ]
     },
     "execution_count": 48,
     "metadata": {},
     "output_type": "execute_result"
    }
   ],
   "source": [
    "#Find no. of missing values in each column\n",
    "data.isnull().sum().sort_values(ascending=False)"
   ]
  },
  {
   "cell_type": "code",
   "execution_count": 49,
   "id": "ad81cb71",
   "metadata": {},
   "outputs": [],
   "source": [
    "#Combine Review Time and Review\n",
    "data['complete_review'] = data['title'] +' .'+data['review']"
   ]
  },
  {
   "cell_type": "code",
   "execution_count": 50,
   "id": "e2d42c2a",
   "metadata": {},
   "outputs": [],
   "source": [
    "#Drop some columns which we won't use for sentiment analysis of review\n",
    "remove_cols = ['date','review','title']\n",
    "data = data.drop(remove_cols,axis='columns')"
   ]
  },
  {
   "cell_type": "code",
   "execution_count": 52,
   "id": "5b8622e0",
   "metadata": {},
   "outputs": [
    {
     "data": {
      "text/html": [
       "<div>\n",
       "<style scoped>\n",
       "    .dataframe tbody tr th:only-of-type {\n",
       "        vertical-align: middle;\n",
       "    }\n",
       "\n",
       "    .dataframe tbody tr th {\n",
       "        vertical-align: top;\n",
       "    }\n",
       "\n",
       "    .dataframe thead th {\n",
       "        text-align: right;\n",
       "    }\n",
       "</style>\n",
       "<table border=\"1\" class=\"dataframe\">\n",
       "  <thead>\n",
       "    <tr style=\"text-align: right;\">\n",
       "      <th></th>\n",
       "      <th>rating</th>\n",
       "      <th>complete_review</th>\n",
       "    </tr>\n",
       "  </thead>\n",
       "  <tbody>\n",
       "    <tr>\n",
       "      <th>0</th>\n",
       "      <td>4</td>\n",
       "      <td>Much more accessible for blind users than the ...</td>\n",
       "    </tr>\n",
       "    <tr>\n",
       "      <th>1</th>\n",
       "      <td>4</td>\n",
       "      <td>4.5 stars, here’s why .I recently downloaded t...</td>\n",
       "    </tr>\n",
       "    <tr>\n",
       "      <th>2</th>\n",
       "      <td>4</td>\n",
       "      <td>Almost 5 stars, but… no search function .This ...</td>\n",
       "    </tr>\n",
       "    <tr>\n",
       "      <th>3</th>\n",
       "      <td>4</td>\n",
       "      <td>Good, but Siri support would take it to the ne...</td>\n",
       "    </tr>\n",
       "    <tr>\n",
       "      <th>4</th>\n",
       "      <td>1</td>\n",
       "      <td>App review .No doubt, this technology is absol...</td>\n",
       "    </tr>\n",
       "  </tbody>\n",
       "</table>\n",
       "</div>"
      ],
      "text/plain": [
       "   rating                                    complete_review\n",
       "0       4  Much more accessible for blind users than the ...\n",
       "1       4  4.5 stars, here’s why .I recently downloaded t...\n",
       "2       4  Almost 5 stars, but… no search function .This ...\n",
       "3       4  Good, but Siri support would take it to the ne...\n",
       "4       1  App review .No doubt, this technology is absol..."
      ]
     },
     "execution_count": 52,
     "metadata": {},
     "output_type": "execute_result"
    }
   ],
   "source": [
    "data.head()"
   ]
  },
  {
   "cell_type": "markdown",
   "id": "6c63b6cc",
   "metadata": {},
   "source": [
    "## **Convert all the reviews to lowercase**"
   ]
  },
  {
   "cell_type": "code",
   "execution_count": 53,
   "id": "3585522a",
   "metadata": {},
   "outputs": [
    {
     "data": {
      "text/plain": [
       "0    much more accessible for blind users than the ...\n",
       "1    4.5 stars, here’s why .i recently downloaded t...\n",
       "2    almost 5 stars, but… no search function .this ...\n",
       "3    good, but siri support would take it to the ne...\n",
       "4    app review .no doubt, this technology is absol...\n",
       "Name: complete_review, dtype: object"
      ]
     },
     "execution_count": 53,
     "metadata": {},
     "output_type": "execute_result"
    }
   ],
   "source": [
    "data['complete_review'] = data['complete_review'].apply(lambda x: \" \".join(x.lower() for x in x.split()))\n",
    "data['complete_review'].head()"
   ]
  },
  {
   "cell_type": "markdown",
   "id": "3558d762",
   "metadata": {},
   "source": [
    "## **Remove Punctuation**"
   ]
  },
  {
   "cell_type": "code",
   "execution_count": 54,
   "id": "1caab598",
   "metadata": {},
   "outputs": [
    {
     "name": "stderr",
     "output_type": "stream",
     "text": [
      "C:\\Users\\Nima\\AppData\\Local\\Temp\\ipykernel_4504\\3606737599.py:1: FutureWarning: The default value of regex will change from True to False in a future version.\n",
      "  data['complete_review'] = data['complete_review'].str.replace('[^\\w\\s]','')\n"
     ]
    }
   ],
   "source": [
    "data['complete_review'] = data['complete_review'].str.replace('[^\\w\\s]','')"
   ]
  },
  {
   "cell_type": "markdown",
   "id": "50630497",
   "metadata": {},
   "source": [
    "## **Remove Emojis**"
   ]
  },
  {
   "cell_type": "code",
   "execution_count": 66,
   "id": "a954870d",
   "metadata": {},
   "outputs": [],
   "source": [
    "import re"
   ]
  },
  {
   "cell_type": "code",
   "execution_count": 67,
   "id": "3be669d7",
   "metadata": {},
   "outputs": [],
   "source": [
    "def remove_emoji(text):\n",
    "    emoji_pattern = re.compile(\"[\"\n",
    "                           u\"\\U0001F600-\\U0001F64F\"  # emoticons\n",
    "                           u\"\\U0001F300-\\U0001F5FF\"  # symbols & pictographs\n",
    "                           u\"\\U0001F680-\\U0001F6FF\"  # transport & map symbols\n",
    "                           u\"\\U0001F1E0-\\U0001F1FF\"  # flags\n",
    "                           u\"\\U00002702-\\U000027B0\"\n",
    "                           u\"\\U000024C2-\\U0001F251\"\n",
    "                           \"]+\", flags=re.UNICODE)\n",
    "    return emoji_pattern.sub(r'', text)\n",
    "data['complete_review'] = data['complete_review'].apply(lambda x: remove_emoji(x))"
   ]
  },
  {
   "cell_type": "markdown",
   "id": "5e0af736",
   "metadata": {},
   "source": [
    "## **Remove Stopwords**"
   ]
  },
  {
   "cell_type": "code",
   "execution_count": 107,
   "id": "a18fe3de",
   "metadata": {},
   "outputs": [
    {
     "name": "stdout",
     "output_type": "stream",
     "text": [
      "Requirement already satisfied: pip in c:\\users\\nima\\anaconda3\\envs\\tensorflow_python_3_10\\lib\\site-packages (23.1.2)\n",
      "Requirement already satisfied: setuptools in c:\\users\\nima\\anaconda3\\envs\\tensorflow_python_3_10\\lib\\site-packages (68.0.0)\n",
      "Requirement already satisfied: wheel in c:\\users\\nima\\anaconda3\\envs\\tensorflow_python_3_10\\lib\\site-packages (0.40.0)\n",
      "Requirement already satisfied: spacy in c:\\users\\nima\\anaconda3\\envs\\tensorflow_python_3_10\\lib\\site-packages (3.6.0)\n",
      "Requirement already satisfied: spacy-legacy<3.1.0,>=3.0.11 in c:\\users\\nima\\anaconda3\\envs\\tensorflow_python_3_10\\lib\\site-packages (from spacy) (3.0.12)\n",
      "Requirement already satisfied: spacy-loggers<2.0.0,>=1.0.0 in c:\\users\\nima\\anaconda3\\envs\\tensorflow_python_3_10\\lib\\site-packages (from spacy) (1.0.4)\n",
      "Requirement already satisfied: murmurhash<1.1.0,>=0.28.0 in c:\\users\\nima\\anaconda3\\envs\\tensorflow_python_3_10\\lib\\site-packages (from spacy) (1.0.7)\n",
      "Requirement already satisfied: cymem<2.1.0,>=2.0.2 in c:\\users\\nima\\anaconda3\\envs\\tensorflow_python_3_10\\lib\\site-packages (from spacy) (2.0.6)\n",
      "Requirement already satisfied: preshed<3.1.0,>=3.0.2 in c:\\users\\nima\\anaconda3\\envs\\tensorflow_python_3_10\\lib\\site-packages (from spacy) (3.0.6)\n",
      "Requirement already satisfied: thinc<8.2.0,>=8.1.8 in c:\\users\\nima\\anaconda3\\envs\\tensorflow_python_3_10\\lib\\site-packages (from spacy) (8.1.10)\n",
      "Requirement already satisfied: wasabi<1.2.0,>=0.9.1 in c:\\users\\nima\\anaconda3\\envs\\tensorflow_python_3_10\\lib\\site-packages (from spacy) (0.9.1)\n",
      "Requirement already satisfied: srsly<3.0.0,>=2.4.3 in c:\\users\\nima\\anaconda3\\envs\\tensorflow_python_3_10\\lib\\site-packages (from spacy) (2.4.6)\n",
      "Requirement already satisfied: catalogue<2.1.0,>=2.0.6 in c:\\users\\nima\\anaconda3\\envs\\tensorflow_python_3_10\\lib\\site-packages (from spacy) (2.0.7)\n",
      "Requirement already satisfied: typer<0.10.0,>=0.3.0 in c:\\users\\nima\\anaconda3\\envs\\tensorflow_python_3_10\\lib\\site-packages (from spacy) (0.4.1)\n",
      "Requirement already satisfied: pathy>=0.10.0 in c:\\users\\nima\\anaconda3\\envs\\tensorflow_python_3_10\\lib\\site-packages (from spacy) (0.10.1)\n",
      "Requirement already satisfied: smart-open<7.0.0,>=5.2.1 in c:\\users\\nima\\anaconda3\\envs\\tensorflow_python_3_10\\lib\\site-packages (from spacy) (5.2.1)\n",
      "Requirement already satisfied: tqdm<5.0.0,>=4.38.0 in c:\\users\\nima\\anaconda3\\envs\\tensorflow_python_3_10\\lib\\site-packages (from spacy) (4.65.0)\n",
      "Requirement already satisfied: numpy>=1.15.0 in c:\\users\\nima\\anaconda3\\envs\\tensorflow_python_3_10\\lib\\site-packages (from spacy) (1.24.3)\n",
      "Requirement already satisfied: requests<3.0.0,>=2.13.0 in c:\\users\\nima\\anaconda3\\envs\\tensorflow_python_3_10\\lib\\site-packages (from spacy) (2.29.0)\n",
      "Requirement already satisfied: pydantic!=1.8,!=1.8.1,<1.11.0,>=1.7.4 in c:\\users\\nima\\anaconda3\\envs\\tensorflow_python_3_10\\lib\\site-packages (from spacy) (1.10.8)\n",
      "Requirement already satisfied: jinja2 in c:\\users\\nima\\anaconda3\\envs\\tensorflow_python_3_10\\lib\\site-packages (from spacy) (3.1.2)\n",
      "Requirement already satisfied: setuptools in c:\\users\\nima\\anaconda3\\envs\\tensorflow_python_3_10\\lib\\site-packages (from spacy) (68.0.0)\n",
      "Requirement already satisfied: packaging>=20.0 in c:\\users\\nima\\anaconda3\\envs\\tensorflow_python_3_10\\lib\\site-packages (from spacy) (23.0)\n",
      "Requirement already satisfied: langcodes<4.0.0,>=3.2.0 in c:\\users\\nima\\anaconda3\\envs\\tensorflow_python_3_10\\lib\\site-packages (from spacy) (3.3.0)\n",
      "Requirement already satisfied: typing-extensions>=4.2.0 in c:\\users\\nima\\anaconda3\\envs\\tensorflow_python_3_10\\lib\\site-packages (from pydantic!=1.8,!=1.8.1,<1.11.0,>=1.7.4->spacy) (4.5.0)\n",
      "Requirement already satisfied: charset-normalizer<4,>=2 in c:\\users\\nima\\anaconda3\\envs\\tensorflow_python_3_10\\lib\\site-packages (from requests<3.0.0,>=2.13.0->spacy) (2.0.4)\n",
      "Requirement already satisfied: idna<4,>=2.5 in c:\\users\\nima\\anaconda3\\envs\\tensorflow_python_3_10\\lib\\site-packages (from requests<3.0.0,>=2.13.0->spacy) (3.4)\n",
      "Requirement already satisfied: urllib3<1.27,>=1.21.1 in c:\\users\\nima\\anaconda3\\envs\\tensorflow_python_3_10\\lib\\site-packages (from requests<3.0.0,>=2.13.0->spacy) (1.26.16)\n",
      "Requirement already satisfied: certifi>=2017.4.17 in c:\\users\\nima\\anaconda3\\envs\\tensorflow_python_3_10\\lib\\site-packages (from requests<3.0.0,>=2.13.0->spacy) (2023.5.7)\n",
      "Requirement already satisfied: blis<0.8.0,>=0.7.8 in c:\\users\\nima\\anaconda3\\envs\\tensorflow_python_3_10\\lib\\site-packages (from thinc<8.2.0,>=8.1.8->spacy) (0.7.9)\n",
      "Requirement already satisfied: confection<1.0.0,>=0.0.1 in c:\\users\\nima\\anaconda3\\envs\\tensorflow_python_3_10\\lib\\site-packages (from thinc<8.2.0,>=8.1.8->spacy) (0.0.4)\n",
      "Requirement already satisfied: colorama in c:\\users\\nima\\anaconda3\\envs\\tensorflow_python_3_10\\lib\\site-packages (from tqdm<5.0.0,>=4.38.0->spacy) (0.4.6)\n",
      "Requirement already satisfied: click<9.0.0,>=7.1.1 in c:\\users\\nima\\anaconda3\\envs\\tensorflow_python_3_10\\lib\\site-packages (from typer<0.10.0,>=0.3.0->spacy) (8.0.4)\n",
      "Requirement already satisfied: MarkupSafe>=2.0 in c:\\users\\nima\\anaconda3\\envs\\tensorflow_python_3_10\\lib\\site-packages (from jinja2->spacy) (2.1.1)\n",
      "Collecting en-core-web-sm==3.6.0\n",
      "  Downloading https://github.com/explosion/spacy-models/releases/download/en_core_web_sm-3.6.0/en_core_web_sm-3.6.0-py3-none-any.whl (12.8 MB)\n",
      "                                              0.0/12.8 MB ? eta -:--:--\n",
      "                                              0.0/12.8 MB ? eta -:--:--\n",
      "                                              0.1/12.8 MB 1.7 MB/s eta 0:00:08\n",
      "                                              0.3/12.8 MB 2.0 MB/s eta 0:00:07\n",
      "     -                                        0.4/12.8 MB 2.0 MB/s eta 0:00:07\n",
      "     -                                        0.5/12.8 MB 2.1 MB/s eta 0:00:06\n",
      "     -                                        0.6/12.8 MB 2.1 MB/s eta 0:00:06\n",
      "     --                                       0.7/12.8 MB 2.3 MB/s eta 0:00:06\n",
      "     --                                       0.8/12.8 MB 2.3 MB/s eta 0:00:06\n",
      "     ---                                      1.0/12.8 MB 2.3 MB/s eta 0:00:06\n",
      "     ---                                      1.0/12.8 MB 2.4 MB/s eta 0:00:05\n",
      "     ---                                      1.1/12.8 MB 2.2 MB/s eta 0:00:06\n",
      "     ---                                      1.2/12.8 MB 2.2 MB/s eta 0:00:06\n",
      "     ---                                      1.3/12.8 MB 2.2 MB/s eta 0:00:06\n",
      "     ----                                     1.4/12.8 MB 2.2 MB/s eta 0:00:06\n",
      "     ----                                     1.5/12.8 MB 2.2 MB/s eta 0:00:06\n",
      "     -----                                    1.6/12.8 MB 2.3 MB/s eta 0:00:05\n",
      "     -----                                    1.7/12.8 MB 2.3 MB/s eta 0:00:05\n",
      "     -----                                    1.9/12.8 MB 2.3 MB/s eta 0:00:05\n",
      "     ------                                   2.0/12.8 MB 2.3 MB/s eta 0:00:05\n",
      "     ------                                   2.1/12.8 MB 2.4 MB/s eta 0:00:05\n",
      "     -------                                  2.3/12.8 MB 2.4 MB/s eta 0:00:05\n",
      "     -------                                  2.5/12.8 MB 2.4 MB/s eta 0:00:05\n",
      "     --------                                 2.6/12.8 MB 2.5 MB/s eta 0:00:05\n",
      "     --------                                 2.8/12.8 MB 2.5 MB/s eta 0:00:04\n",
      "     ---------                                2.9/12.8 MB 2.6 MB/s eta 0:00:04\n",
      "     ---------                                3.1/12.8 MB 2.6 MB/s eta 0:00:04\n",
      "     ----------                               3.2/12.8 MB 2.7 MB/s eta 0:00:04\n",
      "     ----------                               3.3/12.8 MB 2.7 MB/s eta 0:00:04\n",
      "     ----------                               3.4/12.8 MB 2.5 MB/s eta 0:00:04\n",
      "     ----------                               3.5/12.8 MB 2.5 MB/s eta 0:00:04\n",
      "     ----------                               3.5/12.8 MB 2.5 MB/s eta 0:00:04\n",
      "     -----------                              3.6/12.8 MB 2.5 MB/s eta 0:00:04\n",
      "     -----------                              3.7/12.8 MB 2.4 MB/s eta 0:00:04\n",
      "     -----------                              3.7/12.8 MB 2.4 MB/s eta 0:00:04\n",
      "     -----------                              3.8/12.8 MB 2.4 MB/s eta 0:00:04\n",
      "     ------------                             3.9/12.8 MB 2.4 MB/s eta 0:00:04\n",
      "     ------------                             4.0/12.8 MB 2.4 MB/s eta 0:00:04\n",
      "     ------------                             4.1/12.8 MB 2.4 MB/s eta 0:00:04\n",
      "     ------------                             4.1/12.8 MB 2.3 MB/s eta 0:00:04\n",
      "     -------------                            4.2/12.8 MB 2.3 MB/s eta 0:00:04\n",
      "     -------------                            4.3/12.8 MB 2.3 MB/s eta 0:00:04\n",
      "     -------------                            4.4/12.8 MB 2.3 MB/s eta 0:00:04\n",
      "     -------------                            4.5/12.8 MB 2.3 MB/s eta 0:00:04\n",
      "     --------------                           4.5/12.8 MB 2.2 MB/s eta 0:00:04\n",
      "     --------------                           4.6/12.8 MB 2.3 MB/s eta 0:00:04\n",
      "     --------------                           4.7/12.8 MB 2.3 MB/s eta 0:00:04\n",
      "     ---------------                          4.8/12.8 MB 2.3 MB/s eta 0:00:04\n",
      "     ---------------                          4.9/12.8 MB 2.2 MB/s eta 0:00:04\n",
      "     ---------------                          5.0/12.8 MB 2.2 MB/s eta 0:00:04\n",
      "     ---------------                          5.0/12.8 MB 2.2 MB/s eta 0:00:04\n",
      "     ---------------                          5.1/12.8 MB 2.2 MB/s eta 0:00:04\n",
      "     ----------------                         5.2/12.8 MB 2.2 MB/s eta 0:00:04\n",
      "     ----------------                         5.2/12.8 MB 2.1 MB/s eta 0:00:04\n",
      "     ----------------                         5.3/12.8 MB 2.1 MB/s eta 0:00:04\n",
      "     ----------------                         5.3/12.8 MB 2.1 MB/s eta 0:00:04\n",
      "     ----------------                         5.3/12.8 MB 2.1 MB/s eta 0:00:04\n",
      "     ----------------                         5.4/12.8 MB 2.1 MB/s eta 0:00:04\n",
      "     -----------------                        5.5/12.8 MB 2.1 MB/s eta 0:00:04\n",
      "     -----------------                        5.5/12.8 MB 2.0 MB/s eta 0:00:04\n",
      "     -----------------                        5.6/12.8 MB 2.0 MB/s eta 0:00:04\n",
      "     -----------------                        5.7/12.8 MB 2.0 MB/s eta 0:00:04\n",
      "     ------------------                       5.8/12.8 MB 2.0 MB/s eta 0:00:04\n",
      "     ------------------                       5.8/12.8 MB 2.0 MB/s eta 0:00:04\n",
      "     ------------------                       5.9/12.8 MB 2.0 MB/s eta 0:00:04\n",
      "     ------------------                       6.0/12.8 MB 2.0 MB/s eta 0:00:04\n",
      "     ------------------                       6.1/12.8 MB 2.0 MB/s eta 0:00:04\n",
      "     -------------------                      6.1/12.8 MB 2.0 MB/s eta 0:00:04\n",
      "     -------------------                      6.2/12.8 MB 2.0 MB/s eta 0:00:04\n",
      "     -------------------                      6.3/12.8 MB 2.0 MB/s eta 0:00:04\n",
      "     -------------------                      6.4/12.8 MB 2.0 MB/s eta 0:00:04\n",
      "     --------------------                     6.5/12.8 MB 2.0 MB/s eta 0:00:04\n",
      "     --------------------                     6.5/12.8 MB 2.0 MB/s eta 0:00:04\n",
      "     --------------------                     6.6/12.8 MB 2.0 MB/s eta 0:00:04\n",
      "     ---------------------                    6.7/12.8 MB 2.0 MB/s eta 0:00:04\n",
      "     ---------------------                    6.8/12.8 MB 2.0 MB/s eta 0:00:04\n",
      "     ---------------------                    6.9/12.8 MB 2.0 MB/s eta 0:00:03\n",
      "     ---------------------                    7.0/12.8 MB 2.0 MB/s eta 0:00:03\n",
      "     ---------------------                    7.0/12.8 MB 2.0 MB/s eta 0:00:03\n",
      "     ----------------------                   7.1/12.8 MB 2.0 MB/s eta 0:00:03\n",
      "     ----------------------                   7.2/12.8 MB 2.0 MB/s eta 0:00:03\n",
      "     ----------------------                   7.3/12.8 MB 2.0 MB/s eta 0:00:03\n",
      "     -----------------------                  7.4/12.8 MB 2.0 MB/s eta 0:00:03\n",
      "     -----------------------                  7.5/12.8 MB 2.0 MB/s eta 0:00:03\n",
      "     -----------------------                  7.6/12.8 MB 2.0 MB/s eta 0:00:03\n",
      "     ------------------------                 7.7/12.8 MB 2.0 MB/s eta 0:00:03\n",
      "     ------------------------                 7.8/12.8 MB 2.0 MB/s eta 0:00:03\n",
      "     ------------------------                 8.0/12.8 MB 2.0 MB/s eta 0:00:03\n",
      "     -------------------------                8.1/12.8 MB 2.0 MB/s eta 0:00:03\n",
      "     -------------------------                8.3/12.8 MB 2.0 MB/s eta 0:00:03\n",
      "     --------------------------               8.4/12.8 MB 2.0 MB/s eta 0:00:03\n",
      "     --------------------------               8.6/12.8 MB 2.0 MB/s eta 0:00:03\n",
      "     ---------------------------              8.7/12.8 MB 2.1 MB/s eta 0:00:02\n",
      "     ---------------------------              8.9/12.8 MB 2.1 MB/s eta 0:00:02\n",
      "     ----------------------------             9.0/12.8 MB 2.1 MB/s eta 0:00:02\n",
      "     ----------------------------             9.2/12.8 MB 2.1 MB/s eta 0:00:02\n",
      "     -----------------------------            9.4/12.8 MB 2.1 MB/s eta 0:00:02\n",
      "     -----------------------------            9.5/12.8 MB 2.1 MB/s eta 0:00:02\n",
      "     ------------------------------           9.7/12.8 MB 2.2 MB/s eta 0:00:02\n",
      "     ------------------------------           9.9/12.8 MB 2.2 MB/s eta 0:00:02\n",
      "     -------------------------------          10.1/12.8 MB 2.2 MB/s eta 0:00:02\n",
      "     --------------------------------         10.3/12.8 MB 2.2 MB/s eta 0:00:02\n",
      "     --------------------------------         10.4/12.8 MB 2.2 MB/s eta 0:00:02\n",
      "     --------------------------------         10.5/12.8 MB 2.2 MB/s eta 0:00:02\n",
      "     ---------------------------------        10.6/12.8 MB 2.2 MB/s eta 0:00:02\n",
      "     ---------------------------------        10.7/12.8 MB 2.2 MB/s eta 0:00:01\n",
      "     ---------------------------------        10.9/12.8 MB 2.2 MB/s eta 0:00:01\n",
      "     ----------------------------------       11.0/12.8 MB 2.2 MB/s eta 0:00:01\n",
      "     ----------------------------------       11.2/12.8 MB 2.2 MB/s eta 0:00:01\n",
      "     -----------------------------------      11.3/12.8 MB 2.3 MB/s eta 0:00:01\n",
      "     -----------------------------------      11.4/12.8 MB 2.3 MB/s eta 0:00:01\n",
      "     -----------------------------------      11.5/12.8 MB 2.3 MB/s eta 0:00:01\n",
      "     ------------------------------------     11.6/12.8 MB 2.3 MB/s eta 0:00:01\n",
      "     ------------------------------------     11.7/12.8 MB 2.3 MB/s eta 0:00:01\n",
      "     ------------------------------------     11.8/12.8 MB 2.3 MB/s eta 0:00:01\n",
      "     -------------------------------------    11.9/12.8 MB 2.3 MB/s eta 0:00:01\n",
      "     -------------------------------------    12.0/12.8 MB 2.2 MB/s eta 0:00:01\n",
      "     -------------------------------------    12.1/12.8 MB 2.2 MB/s eta 0:00:01\n",
      "     --------------------------------------   12.3/12.8 MB 2.2 MB/s eta 0:00:01\n",
      "     --------------------------------------   12.4/12.8 MB 2.3 MB/s eta 0:00:01\n",
      "     ---------------------------------------  12.5/12.8 MB 2.2 MB/s eta 0:00:01\n",
      "     ---------------------------------------  12.6/12.8 MB 2.2 MB/s eta 0:00:01\n",
      "     ---------------------------------------  12.7/12.8 MB 2.2 MB/s eta 0:00:01\n",
      "     ---------------------------------------  12.8/12.8 MB 2.2 MB/s eta 0:00:01\n",
      "     ---------------------------------------- 12.8/12.8 MB 2.2 MB/s eta 0:00:00\n",
      "Requirement already satisfied: spacy<3.7.0,>=3.6.0 in c:\\users\\nima\\anaconda3\\envs\\tensorflow_python_3_10\\lib\\site-packages (from en-core-web-sm==3.6.0) (3.6.0)\n",
      "Requirement already satisfied: spacy-legacy<3.1.0,>=3.0.11 in c:\\users\\nima\\anaconda3\\envs\\tensorflow_python_3_10\\lib\\site-packages (from spacy<3.7.0,>=3.6.0->en-core-web-sm==3.6.0) (3.0.12)\n",
      "Requirement already satisfied: spacy-loggers<2.0.0,>=1.0.0 in c:\\users\\nima\\anaconda3\\envs\\tensorflow_python_3_10\\lib\\site-packages (from spacy<3.7.0,>=3.6.0->en-core-web-sm==3.6.0) (1.0.4)\n",
      "Requirement already satisfied: murmurhash<1.1.0,>=0.28.0 in c:\\users\\nima\\anaconda3\\envs\\tensorflow_python_3_10\\lib\\site-packages (from spacy<3.7.0,>=3.6.0->en-core-web-sm==3.6.0) (1.0.7)\n",
      "Requirement already satisfied: cymem<2.1.0,>=2.0.2 in c:\\users\\nima\\anaconda3\\envs\\tensorflow_python_3_10\\lib\\site-packages (from spacy<3.7.0,>=3.6.0->en-core-web-sm==3.6.0) (2.0.6)\n",
      "Requirement already satisfied: preshed<3.1.0,>=3.0.2 in c:\\users\\nima\\anaconda3\\envs\\tensorflow_python_3_10\\lib\\site-packages (from spacy<3.7.0,>=3.6.0->en-core-web-sm==3.6.0) (3.0.6)\n",
      "Requirement already satisfied: thinc<8.2.0,>=8.1.8 in c:\\users\\nima\\anaconda3\\envs\\tensorflow_python_3_10\\lib\\site-packages (from spacy<3.7.0,>=3.6.0->en-core-web-sm==3.6.0) (8.1.10)\n",
      "Requirement already satisfied: wasabi<1.2.0,>=0.9.1 in c:\\users\\nima\\anaconda3\\envs\\tensorflow_python_3_10\\lib\\site-packages (from spacy<3.7.0,>=3.6.0->en-core-web-sm==3.6.0) (0.9.1)\n",
      "Requirement already satisfied: srsly<3.0.0,>=2.4.3 in c:\\users\\nima\\anaconda3\\envs\\tensorflow_python_3_10\\lib\\site-packages (from spacy<3.7.0,>=3.6.0->en-core-web-sm==3.6.0) (2.4.6)\n",
      "Requirement already satisfied: catalogue<2.1.0,>=2.0.6 in c:\\users\\nima\\anaconda3\\envs\\tensorflow_python_3_10\\lib\\site-packages (from spacy<3.7.0,>=3.6.0->en-core-web-sm==3.6.0) (2.0.7)\n",
      "Requirement already satisfied: typer<0.10.0,>=0.3.0 in c:\\users\\nima\\anaconda3\\envs\\tensorflow_python_3_10\\lib\\site-packages (from spacy<3.7.0,>=3.6.0->en-core-web-sm==3.6.0) (0.4.1)\n",
      "Requirement already satisfied: pathy>=0.10.0 in c:\\users\\nima\\anaconda3\\envs\\tensorflow_python_3_10\\lib\\site-packages (from spacy<3.7.0,>=3.6.0->en-core-web-sm==3.6.0) (0.10.1)\n",
      "Requirement already satisfied: smart-open<7.0.0,>=5.2.1 in c:\\users\\nima\\anaconda3\\envs\\tensorflow_python_3_10\\lib\\site-packages (from spacy<3.7.0,>=3.6.0->en-core-web-sm==3.6.0) (5.2.1)\n",
      "Requirement already satisfied: tqdm<5.0.0,>=4.38.0 in c:\\users\\nima\\anaconda3\\envs\\tensorflow_python_3_10\\lib\\site-packages (from spacy<3.7.0,>=3.6.0->en-core-web-sm==3.6.0) (4.65.0)\n",
      "Requirement already satisfied: numpy>=1.15.0 in c:\\users\\nima\\anaconda3\\envs\\tensorflow_python_3_10\\lib\\site-packages (from spacy<3.7.0,>=3.6.0->en-core-web-sm==3.6.0) (1.24.3)\n",
      "Requirement already satisfied: requests<3.0.0,>=2.13.0 in c:\\users\\nima\\anaconda3\\envs\\tensorflow_python_3_10\\lib\\site-packages (from spacy<3.7.0,>=3.6.0->en-core-web-sm==3.6.0) (2.29.0)\n",
      "Requirement already satisfied: pydantic!=1.8,!=1.8.1,<1.11.0,>=1.7.4 in c:\\users\\nima\\anaconda3\\envs\\tensorflow_python_3_10\\lib\\site-packages (from spacy<3.7.0,>=3.6.0->en-core-web-sm==3.6.0) (1.10.8)\n",
      "Requirement already satisfied: jinja2 in c:\\users\\nima\\anaconda3\\envs\\tensorflow_python_3_10\\lib\\site-packages (from spacy<3.7.0,>=3.6.0->en-core-web-sm==3.6.0) (3.1.2)\n",
      "Requirement already satisfied: setuptools in c:\\users\\nima\\anaconda3\\envs\\tensorflow_python_3_10\\lib\\site-packages (from spacy<3.7.0,>=3.6.0->en-core-web-sm==3.6.0) (68.0.0)\n",
      "Requirement already satisfied: packaging>=20.0 in c:\\users\\nima\\anaconda3\\envs\\tensorflow_python_3_10\\lib\\site-packages (from spacy<3.7.0,>=3.6.0->en-core-web-sm==3.6.0) (23.0)\n",
      "Requirement already satisfied: langcodes<4.0.0,>=3.2.0 in c:\\users\\nima\\anaconda3\\envs\\tensorflow_python_3_10\\lib\\site-packages (from spacy<3.7.0,>=3.6.0->en-core-web-sm==3.6.0) (3.3.0)\n",
      "Requirement already satisfied: typing-extensions>=4.2.0 in c:\\users\\nima\\anaconda3\\envs\\tensorflow_python_3_10\\lib\\site-packages (from pydantic!=1.8,!=1.8.1,<1.11.0,>=1.7.4->spacy<3.7.0,>=3.6.0->en-core-web-sm==3.6.0) (4.5.0)\n",
      "Requirement already satisfied: charset-normalizer<4,>=2 in c:\\users\\nima\\anaconda3\\envs\\tensorflow_python_3_10\\lib\\site-packages (from requests<3.0.0,>=2.13.0->spacy<3.7.0,>=3.6.0->en-core-web-sm==3.6.0) (2.0.4)\n",
      "Requirement already satisfied: idna<4,>=2.5 in c:\\users\\nima\\anaconda3\\envs\\tensorflow_python_3_10\\lib\\site-packages (from requests<3.0.0,>=2.13.0->spacy<3.7.0,>=3.6.0->en-core-web-sm==3.6.0) (3.4)\n",
      "Requirement already satisfied: urllib3<1.27,>=1.21.1 in c:\\users\\nima\\anaconda3\\envs\\tensorflow_python_3_10\\lib\\site-packages (from requests<3.0.0,>=2.13.0->spacy<3.7.0,>=3.6.0->en-core-web-sm==3.6.0) (1.26.16)\n",
      "Requirement already satisfied: certifi>=2017.4.17 in c:\\users\\nima\\anaconda3\\envs\\tensorflow_python_3_10\\lib\\site-packages (from requests<3.0.0,>=2.13.0->spacy<3.7.0,>=3.6.0->en-core-web-sm==3.6.0) (2023.5.7)\n",
      "Requirement already satisfied: blis<0.8.0,>=0.7.8 in c:\\users\\nima\\anaconda3\\envs\\tensorflow_python_3_10\\lib\\site-packages (from thinc<8.2.0,>=8.1.8->spacy<3.7.0,>=3.6.0->en-core-web-sm==3.6.0) (0.7.9)\n",
      "Requirement already satisfied: confection<1.0.0,>=0.0.1 in c:\\users\\nima\\anaconda3\\envs\\tensorflow_python_3_10\\lib\\site-packages (from thinc<8.2.0,>=8.1.8->spacy<3.7.0,>=3.6.0->en-core-web-sm==3.6.0) (0.0.4)\n",
      "Requirement already satisfied: colorama in c:\\users\\nima\\anaconda3\\envs\\tensorflow_python_3_10\\lib\\site-packages (from tqdm<5.0.0,>=4.38.0->spacy<3.7.0,>=3.6.0->en-core-web-sm==3.6.0) (0.4.6)\n",
      "Requirement already satisfied: click<9.0.0,>=7.1.1 in c:\\users\\nima\\anaconda3\\envs\\tensorflow_python_3_10\\lib\\site-packages (from typer<0.10.0,>=0.3.0->spacy<3.7.0,>=3.6.0->en-core-web-sm==3.6.0) (8.0.4)\n",
      "Requirement already satisfied: MarkupSafe>=2.0 in c:\\users\\nima\\anaconda3\\envs\\tensorflow_python_3_10\\lib\\site-packages (from jinja2->spacy<3.7.0,>=3.6.0->en-core-web-sm==3.6.0) (2.1.1)\n",
      "[+] Download and installation successful\n",
      "You can now load the package via spacy.load('en_core_web_sm')\n"
     ]
    }
   ],
   "source": [
    "# Instal spaCy: https://spacy.io/usage\n",
    "!pip install -U pip setuptools wheel\n",
    "!pip install -U spacy\n",
    "!python -m spacy download en_core_web_sm"
   ]
  },
  {
   "cell_type": "code",
   "execution_count": 114,
   "id": "cf95109c",
   "metadata": {},
   "outputs": [],
   "source": [
    "import nltk\n",
    "from nltk.corpus import stopwords\n",
    "import spacy"
   ]
  },
  {
   "cell_type": "code",
   "execution_count": 115,
   "id": "fd46cec3",
   "metadata": {},
   "outputs": [
    {
     "name": "stderr",
     "output_type": "stream",
     "text": [
      "[nltk_data] Downloading package stopwords to\n",
      "[nltk_data]     C:\\Users\\Nima\\AppData\\Roaming\\nltk_data...\n",
      "[nltk_data]   Package stopwords is already up-to-date!\n"
     ]
    },
    {
     "data": {
      "text/plain": [
       "True"
      ]
     },
     "execution_count": 115,
     "metadata": {},
     "output_type": "execute_result"
    }
   ],
   "source": [
    "import warnings\n",
    "warnings.filterwarnings('ignore')\n",
    "nltk.download('stopwords')"
   ]
  },
  {
   "cell_type": "code",
   "execution_count": 116,
   "id": "0ca37c87",
   "metadata": {},
   "outputs": [],
   "source": [
    "# nlp = spacy.load('en_core_web_sm')"
   ]
  },
  {
   "cell_type": "code",
   "execution_count": 117,
   "id": "afc8f1e1",
   "metadata": {},
   "outputs": [],
   "source": [
    "nlp = spacy.load(\"en_core_web_sm\", disable=['parser', 'ner'])"
   ]
  },
  {
   "cell_type": "code",
   "execution_count": 118,
   "id": "b0d149c7",
   "metadata": {},
   "outputs": [],
   "source": [
    "stop = stopwords.words('english')\n",
    "data['complete_review'] = data['complete_review'].apply(lambda x: \" \".join(x for x in x.split() if x not in stop))"
   ]
  },
  {
   "cell_type": "markdown",
   "id": "85a1cafb",
   "metadata": {},
   "source": [
    "## **Apply Lemmatization**"
   ]
  },
  {
   "cell_type": "code",
   "execution_count": 120,
   "id": "43dbe51e",
   "metadata": {},
   "outputs": [],
   "source": [
    "def space(comment):\n",
    "    doc = nlp(comment)\n",
    "    return \" \".join([token.lemma_ for token in doc])\n",
    "data['complete_review']= data['complete_review'].apply(space)"
   ]
  },
  {
   "cell_type": "markdown",
   "id": "d685103e",
   "metadata": {},
   "source": [
    "## **Remove certain words**"
   ]
  },
  {
   "cell_type": "code",
   "execution_count": 121,
   "id": "7ca22f90",
   "metadata": {},
   "outputs": [],
   "source": [
    "words_to_remove = ['chatgpt','app','chatgpts','chat','gpt','iphone','ipad','gpt4','phone','number','ai','use','io']\n",
    "data['complete_review'] = data['complete_review'].apply(lambda x: \" \".join(x for x in x.split() if x not in words_to_remove))"
   ]
  },
  {
   "cell_type": "markdown",
   "id": "ede493bf",
   "metadata": {},
   "source": [
    "## **Map ratings to positive, negative & neutral sentiment**\n",
    "\n",
    "0 will represent negative sentiment\n",
    "\n",
    "1 will represent neutral sentiment\n",
    "\n",
    "2 will represent positive sentiment"
   ]
  },
  {
   "cell_type": "code",
   "execution_count": null,
   "id": "b6f863ef",
   "metadata": {},
   "outputs": [],
   "source": []
  },
  {
   "cell_type": "markdown",
   "id": "21d1bab2",
   "metadata": {},
   "source": [
    "## **Visualizing a text dataset**"
   ]
  },
  {
   "cell_type": "code",
   "execution_count": null,
   "id": "804577e8",
   "metadata": {},
   "outputs": [],
   "source": []
  },
  {
   "cell_type": "code",
   "execution_count": null,
   "id": "b83c386e",
   "metadata": {},
   "outputs": [],
   "source": []
  },
  {
   "cell_type": "code",
   "execution_count": null,
   "id": "0dee2449",
   "metadata": {},
   "outputs": [],
   "source": []
  },
  {
   "cell_type": "code",
   "execution_count": null,
   "id": "0a512093",
   "metadata": {},
   "outputs": [],
   "source": []
  },
  {
   "cell_type": "markdown",
   "id": "c32efdcb",
   "metadata": {},
   "source": [
    "## **Handle Imbalanced Data**"
   ]
  },
  {
   "cell_type": "code",
   "execution_count": 12,
   "id": "6dd8192f",
   "metadata": {},
   "outputs": [],
   "source": [
    "from imblearn.over_sampling import SMOTE\n",
    "from sklearn.model_selection import train_test_split"
   ]
  },
  {
   "cell_type": "code",
   "execution_count": null,
   "id": "8be72776",
   "metadata": {},
   "outputs": [],
   "source": []
  }
 ],
 "metadata": {
  "kernelspec": {
   "display_name": "Python 3 (ipykernel)",
   "language": "python",
   "name": "python3"
  },
  "language_info": {
   "codemirror_mode": {
    "name": "ipython",
    "version": 3
   },
   "file_extension": ".py",
   "mimetype": "text/x-python",
   "name": "python",
   "nbconvert_exporter": "python",
   "pygments_lexer": "ipython3",
   "version": "3.10.11"
  }
 },
 "nbformat": 4,
 "nbformat_minor": 5
}
